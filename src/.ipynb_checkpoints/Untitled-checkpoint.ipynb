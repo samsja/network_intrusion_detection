{
 "cells": [
  {
   "cell_type": "code",
   "execution_count": 3,
   "metadata": {},
   "outputs": [
    {
     "ename": "ModuleNotFoundError",
     "evalue": "No module named 'src'",
     "output_type": "error",
     "traceback": [
      "\u001b[0;31m---------------------------------------------------------------------------\u001b[0m",
      "\u001b[0;31mModuleNotFoundError\u001b[0m                       Traceback (most recent call last)",
      "\u001b[0;32m<ipython-input-3-38909d1b15ab>\u001b[0m in \u001b[0;36m<module>\u001b[0;34m\u001b[0m\n\u001b[1;32m      5\u001b[0m \u001b[0;32mfrom\u001b[0m \u001b[0msklearn\u001b[0m\u001b[0;34m.\u001b[0m\u001b[0mneighbors\u001b[0m \u001b[0;32mimport\u001b[0m \u001b[0mKNeighborsClassifier\u001b[0m\u001b[0;34m\u001b[0m\u001b[0;34m\u001b[0m\u001b[0m\n\u001b[1;32m      6\u001b[0m \u001b[0;32mfrom\u001b[0m \u001b[0msklearn\u001b[0m\u001b[0;34m.\u001b[0m\u001b[0mmetrics\u001b[0m \u001b[0;32mimport\u001b[0m \u001b[0maccuracy_score\u001b[0m\u001b[0;34m\u001b[0m\u001b[0;34m\u001b[0m\u001b[0m\n\u001b[0;32m----> 7\u001b[0;31m \u001b[0;32mfrom\u001b[0m \u001b[0msrc\u001b[0m\u001b[0;34m.\u001b[0m\u001b[0mpretraitement_fonc\u001b[0m \u001b[0;32mimport\u001b[0m \u001b[0mpretraitement\u001b[0m\u001b[0;34m\u001b[0m\u001b[0;34m\u001b[0m\u001b[0m\n\u001b[0m\u001b[1;32m      8\u001b[0m \u001b[0;32mfrom\u001b[0m \u001b[0msklearn\u001b[0m\u001b[0;34m.\u001b[0m\u001b[0mdecomposition\u001b[0m \u001b[0;32mimport\u001b[0m \u001b[0mPCA\u001b[0m\u001b[0;34m\u001b[0m\u001b[0;34m\u001b[0m\u001b[0m\n\u001b[1;32m      9\u001b[0m \u001b[0;32mfrom\u001b[0m \u001b[0mpretraitement_fonc\u001b[0m \u001b[0;32mimport\u001b[0m \u001b[0mdata_formated\u001b[0m\u001b[0;34m\u001b[0m\u001b[0;34m\u001b[0m\u001b[0m\n",
      "\u001b[0;31mModuleNotFoundError\u001b[0m: No module named 'src'"
     ]
    }
   ],
   "source": [
    "import pandas as pd\n",
    "import numpy as np\n",
    "import matplotlib.pyplot as plt\n",
    "import seaborn as sns\n",
    "from sklearn.neighbors import KNeighborsClassifier\n",
    "from sklearn.metrics import accuracy_score\n",
    "from pretraitement_fonc import pretraitement\n",
    "from sklearn.decomposition import PCA\n",
    "from pretraitement_fonc import data_formated\n",
    "from pretraitement_fonc import remove_variable\n",
    "from pretraitement_fonc import one_hot_encoding\n",
    "from pretraitement_fonc import seperate_train_test\n",
    "from utils import standardize_features\n",
    "\n",
    "from utils import add_decision_boundary\n",
    "from utils import read_column_from_file\n",
    "from utils import read_lab_from_file\n",
    "from utils import plot_clustering\n",
    "\n",
    "import knn_cross_validation as kcv\n",
    "import knn_validation as kv\n",
    "import nearest_prototypes as nrp\n",
    "\n",
    "path = \"./data/kddcup.names\"\n",
    "col_name = read_column_from_file(path)\n",
    "\n",
    "path = \"./data/training_attack_types\"\n",
    "attack_type = read_lab_from_file(path)\n",
    "\n",
    "data = pd.read_csv(\"./data/kddcup.data_10_percent.csv\", sep=\",\", names=col_name)\n",
    "testdata = pd.read_csv(\"./data/corrected.csv\", names=col_name)\n",
    "\n",
    "data, testdata = data_formated(attack_type, data, testdata)\n",
    "data, testdata = remove_variable(data, testdata)\n",
    "data, testdata = one_hot_encoding(data, testdata)\n",
    "X_train, Y_train, X_test, Y_test = seperate_train_test(data)\n",
    "\n",
    "X_train_scaled, X_test_scaled = standardize_features(X_train, X_test)"
   ]
  },
  {
   "cell_type": "code",
   "execution_count": null,
   "metadata": {},
   "outputs": [],
   "source": []
  }
 ],
 "metadata": {
  "kernelspec": {
   "display_name": "Python 3",
   "language": "python",
   "name": "python3"
  },
  "language_info": {
   "codemirror_mode": {
    "name": "ipython",
    "version": 3
   },
   "file_extension": ".py",
   "mimetype": "text/x-python",
   "name": "python",
   "nbconvert_exporter": "python",
   "pygments_lexer": "ipython3",
   "version": "3.7.4"
  }
 },
 "nbformat": 4,
 "nbformat_minor": 2
}
