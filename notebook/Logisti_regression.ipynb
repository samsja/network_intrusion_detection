{
 "cells": [
  {
   "cell_type": "markdown",
   "metadata": {},
   "source": [
    "# logistic regression"
   ]
  },
  {
   "cell_type": "code",
   "execution_count": 1,
   "metadata": {},
   "outputs": [
    {
     "name": "stdout",
     "output_type": "stream",
     "text": [
      "['duration', 'protocol_type', 'service', 'flag', 'src_bytes', 'dst_bytes', 'land', 'wrong_fragment', 'urgent', 'hot', 'num_failed_logins', 'logged_in', 'num_compromised', 'root_shell', 'su_attempted', 'num_root', 'num_file_creations', 'num_shells', 'num_access_files', 'num_outbound_cmds', 'is_host_login', 'is_guest_login', 'count', 'srv_count', 'serror_rate', 'srv_serror_rate', 'rerror_rate', 'srv_rerror_rate', 'same_srv_rate', 'diff_srv_rate', 'srv_diff_host_rate', 'dst_host_count', 'dst_host_srv_count', 'dst_host_same_srv_rate', 'dst_host_diff_srv_rate', 'dst_host_same_src_port_rate', 'dst_host_srv_diff_host_rate', 'dst_host_serror_rate', 'dst_host_srv_serror_rate', 'dst_host_rerror_rate', 'dst_host_srv_rerror_rate', 'name_of_attack']\n",
      "Nombre de colonne : 42\n",
      "{'back': 'dos', 'buffer_overflow': 'u2r', 'ftp_write': 'r2l', 'guess_passwd': 'r2l', 'imap': 'r2l', 'ipsweep': 'probe', 'land': 'dos', 'loadmodule': 'u2r', 'multihop': 'r2l', 'neptune': 'dos', 'nmap': 'probe', 'perl': 'u2r', 'phf': 'r2l', 'pod': 'dos', 'portsweep': 'probe', 'rootkit': 'u2r', 'satan': 'probe', 'smurf': 'dos', 'spy': 'r2l', 'teardrop': 'dos', 'warezclient': 'r2l', 'warezmaster': 'r2l', 'normal': 'normal'}\n",
      "data: 494021 rows and 44 columns\n",
      "<class 'pandas.core.frame.DataFrame'>\n",
      "RangeIndex: 311029 entries, 0 to 311028\n",
      "Data columns (total 43 columns):\n",
      " #   Column                       Non-Null Count   Dtype  \n",
      "---  ------                       --------------   -----  \n",
      " 0   duration                     311029 non-null  int64  \n",
      " 1   protocol_type                311029 non-null  object \n",
      " 2   service                      311029 non-null  object \n",
      " 3   flag                         311029 non-null  object \n",
      " 4   src_bytes                    311029 non-null  int64  \n",
      " 5   dst_bytes                    311029 non-null  int64  \n",
      " 6   land                         311029 non-null  int64  \n",
      " 7   wrong_fragment               311029 non-null  int64  \n",
      " 8   urgent                       311029 non-null  int64  \n",
      " 9   hot                          311029 non-null  int64  \n",
      " 10  num_failed_logins            311029 non-null  int64  \n",
      " 11  logged_in                    311029 non-null  int64  \n",
      " 12  num_compromised              311029 non-null  int64  \n",
      " 13  root_shell                   311029 non-null  int64  \n",
      " 14  su_attempted                 311029 non-null  int64  \n",
      " 15  num_root                     311029 non-null  int64  \n",
      " 16  num_file_creations           311029 non-null  int64  \n",
      " 17  num_shells                   311029 non-null  int64  \n",
      " 18  num_access_files             311029 non-null  int64  \n",
      " 19  num_outbound_cmds            311029 non-null  int64  \n",
      " 20  is_host_login                311029 non-null  int64  \n",
      " 21  is_guest_login               311029 non-null  int64  \n",
      " 22  count                        311029 non-null  int64  \n",
      " 23  srv_count                    311029 non-null  int64  \n",
      " 24  serror_rate                  311029 non-null  float64\n",
      " 25  srv_serror_rate              311029 non-null  float64\n",
      " 26  rerror_rate                  311029 non-null  float64\n",
      " 27  srv_rerror_rate              311029 non-null  float64\n",
      " 28  same_srv_rate                311029 non-null  float64\n",
      " 29  diff_srv_rate                311029 non-null  float64\n",
      " 30  srv_diff_host_rate           311029 non-null  float64\n",
      " 31  dst_host_count               311029 non-null  int64  \n",
      " 32  dst_host_srv_count           311029 non-null  int64  \n",
      " 33  dst_host_same_srv_rate       311029 non-null  float64\n",
      " 34  dst_host_diff_srv_rate       311029 non-null  float64\n",
      " 35  dst_host_same_src_port_rate  311029 non-null  float64\n",
      " 36  dst_host_srv_diff_host_rate  311029 non-null  float64\n",
      " 37  dst_host_serror_rate         311029 non-null  float64\n",
      " 38  dst_host_srv_serror_rate     311029 non-null  float64\n",
      " 39  dst_host_rerror_rate         311029 non-null  float64\n",
      " 40  dst_host_srv_rerror_rate     311029 non-null  float64\n",
      " 41  name_of_attack               311029 non-null  object \n",
      " 42  class                        311029 non-null  object \n",
      "dtypes: float64(15), int64(23), object(5)\n",
      "memory usage: 102.0+ MB\n",
      "test data: 311029 rows and 43 columns\n",
      "Training set:\n",
      "Feature 'protocol_type' has 3 categories\n",
      "Feature 'service' has 66 categories\n",
      "Feature 'flag' has 11 categories\n",
      "Feature 'class' has 2 categories\n",
      "Test set:\n",
      "Feature 'protocol_type' has 3 categories\n",
      "Feature 'service' has 65 categories\n",
      "Feature 'flag' has 11 categories\n",
      "Feature 'class' has 2 categories\n",
      "['Protocol_type_icmp', 'Protocol_type_tcp', 'Protocol_type_udp', 'service_IRC', 'service_X11', 'service_Z39_50', 'service_auth', 'service_bgp', 'service_courier', 'service_csnet_ns', 'service_ctf', 'service_daytime', 'service_discard', 'service_domain', 'service_domain_u', 'service_echo', 'service_eco_i', 'service_ecr_i', 'service_efs', 'service_exec', 'service_finger', 'service_ftp', 'service_ftp_data', 'service_gopher', 'service_hostnames', 'service_http', 'service_http_443', 'service_imap4', 'service_iso_tsap', 'service_klogin', 'service_kshell', 'service_ldap', 'service_link', 'service_login', 'service_mtp', 'service_name', 'service_netbios_dgm', 'service_netbios_ns', 'service_netbios_ssn', 'service_netstat', 'service_nnsp', 'service_nntp', 'service_ntp_u', 'service_other', 'service_pm_dump', 'service_pop_2', 'service_pop_3', 'service_printer', 'service_private', 'service_red_i', 'service_remote_job', 'service_rje', 'service_shell', 'service_smtp', 'service_sql_net', 'service_ssh', 'service_sunrpc', 'service_supdup', 'service_systat', 'service_telnet', 'service_tftp_u', 'service_tim_i', 'service_time', 'service_urh_i', 'service_urp_i', 'service_uucp', 'service_uucp_path', 'service_vmnet', 'service_whois', 'flag_OTH', 'flag_REJ', 'flag_RSTO', 'flag_RSTOS0', 'flag_RSTR', 'flag_S0', 'flag_S1', 'flag_S2', 'flag_S3', 'flag_SF', 'flag_SH']\n",
      "   protocol_type  service  flag\n",
      "0              1       22     9\n",
      "1              1       22     9\n",
      "2              1       22     9\n",
      "3              1       22     9\n",
      "4              1       22     9\n",
      "(494021, 108)\n",
      "(311029, 108)\n",
      "shape of X_train set : 444618 rows, 107 columns\n",
      "shape of X_test set : 49403 rows, 107 columns\n",
      "length of Y_train 444618, and Y_test 49403\n",
      "<class 'pandas.core.frame.DataFrame'>\n",
      "Int64Index: 444618 entries, 139564 to 121958\n",
      "Columns: 107 entries, duration to service_icmp\n",
      "dtypes: float64(89), int64(18)\n",
      "memory usage: 366.4 MB\n",
      "duration          1.000001\n",
      "src_bytes         1.000001\n",
      "dst_bytes         1.000001\n",
      "land              1.000001\n",
      "wrong_fragment    1.000001\n",
      "                    ...   \n",
      "flag_S2           1.000001\n",
      "flag_S3           1.000001\n",
      "flag_SF           1.000001\n",
      "flag_SH           1.000001\n",
      "service_icmp      0.000000\n",
      "Length: 107, dtype: float64\n",
      "duration          1.049117\n",
      "src_bytes         0.059866\n",
      "dst_bytes         0.872283\n",
      "land              0.654663\n",
      "wrong_fragment    1.010009\n",
      "                    ...   \n",
      "flag_S2           0.904538\n",
      "flag_S3           1.000000\n",
      "flag_SF           0.993094\n",
      "flag_SH           0.793758\n",
      "service_icmp      0.000000\n",
      "Length: 107, dtype: float64\n"
     ]
    }
   ],
   "source": [
    "import os\n",
    "os.chdir(\"..\")\n",
    "from src.pretraitement import X_train,X_train_scaled,Y_train,X_test,X_test_scaled,Y_test"
   ]
  },
  {
   "cell_type": "code",
   "execution_count": 2,
   "metadata": {},
   "outputs": [],
   "source": [
    "import numpy as np\n",
    "import pandas as pd"
   ]
  },
  {
   "cell_type": "code",
   "execution_count": 3,
   "metadata": {},
   "outputs": [],
   "source": [
    "def training_model(clf,data,labels):\n",
    "    clf.fit(data,labels)\n",
    "    return clf\n",
    "\n",
    "def ratio_precision(Y_predicted,Y):\n",
    "    if not(Y_predicted.shape == Y.shape):\n",
    "        raise ValueError(\"Y_predicted and Y did not have the same shape\")\n",
    "    \n",
    "    return (Y_predicted == Y).sum()/Y.shape[0]\n",
    "\n",
    "def validation_model(clf,data_test,labels_test):\n",
    "    Y_predicted = clf.predict(data_test)\n",
    "    return ratio_precision(Y_predicted,labels_test),Y_predicted"
   ]
  },
  {
   "cell_type": "code",
   "execution_count": 4,
   "metadata": {},
   "outputs": [],
   "source": [
    "from sklearn.linear_model import LogisticRegression"
   ]
  },
  {
   "cell_type": "markdown",
   "metadata": {},
   "source": [
    "## 1"
   ]
  },
  {
   "cell_type": "code",
   "execution_count": 5,
   "metadata": {},
   "outputs": [],
   "source": [
    "clf = LogisticRegression(random_state=42)"
   ]
  },
  {
   "cell_type": "code",
   "execution_count": 6,
   "metadata": {},
   "outputs": [
    {
     "data": {
      "text/plain": [
       "LogisticRegression(random_state=42)"
      ]
     },
     "execution_count": 6,
     "metadata": {},
     "output_type": "execute_result"
    }
   ],
   "source": [
    "clf.fit(X_train,Y_train)"
   ]
  },
  {
   "cell_type": "code",
   "execution_count": 7,
   "metadata": {
    "scrolled": true
   },
   "outputs": [
    {
     "data": {
      "text/plain": [
       "0.8447665121551323"
      ]
     },
     "execution_count": 7,
     "metadata": {},
     "output_type": "execute_result"
    }
   ],
   "source": [
    "validation_model(clf,X_test,Y_test)[0]"
   ]
  },
  {
   "cell_type": "markdown",
   "metadata": {},
   "source": [
    "## 2"
   ]
  },
  {
   "cell_type": "code",
   "execution_count": 8,
   "metadata": {},
   "outputs": [],
   "source": [
    "from eim import eim_vectorial_optim"
   ]
  },
  {
   "cell_type": "code",
   "execution_count": 42,
   "metadata": {},
   "outputs": [],
   "source": [
    "import torch"
   ]
  },
  {
   "cell_type": "code",
   "execution_count": 9,
   "metadata": {},
   "outputs": [
    {
     "data": {
      "text/plain": [
       "(444618, 107)"
      ]
     },
     "execution_count": 9,
     "metadata": {},
     "output_type": "execute_result"
    }
   ],
   "source": [
    "X_train.shape"
   ]
  },
  {
   "cell_type": "code",
   "execution_count": 10,
   "metadata": {},
   "outputs": [],
   "source": [
    "ev = eim_vectorial_optim(X_train.to_numpy(),from_numpy=True)"
   ]
  },
  {
   "cell_type": "code",
   "execution_count": 11,
   "metadata": {},
   "outputs": [
    {
     "name": "stderr",
     "output_type": "stream",
     "text": [
      "0.5216557832080608 error in 1.441305160522461 s :   0%|          | 102/444618 [02:04<150:54:35,  1.22s/it] "
     ]
    },
    {
     "name": "stdout",
     "output_type": "stream",
     "text": [
      "========================= \n",
      " we have a 102-kolmogorov-width with a final error of 3.637978807091713e-12, dimensionality reduction : 0.9997705895847672  \n",
      "=========================\n"
     ]
    },
    {
     "name": "stderr",
     "output_type": "stream",
     "text": [
      "\n"
     ]
    },
    {
     "data": {
      "image/png": "[encoded data removed]",
      "text/plain": [
       "<Figure size 432x288 with 1 Axes>"
      ]
     },
     "metadata": {
      "needs_background": "light"
     },
     "output_type": "display_data"
    }
   ],
   "source": [
    "ev.reach_precision(epsilon=1e-1)"
   ]
  },
  {
   "cell_type": "code",
   "execution_count": 36,
   "metadata": {},
   "outputs": [
    {
     "data": {
      "text/plain": [
       "5.0"
      ]
     },
     "execution_count": 36,
     "metadata": {},
     "output_type": "execute_result"
    }
   ],
   "source": [
    "ev.error[\"infinite\"][7]"
   ]
  },
  {
   "cell_type": "code",
   "execution_count": 38,
   "metadata": {},
   "outputs": [],
   "source": [
    "a_train = ev.compute_alpha(7,ev.Z)"
   ]
  },
  {
   "cell_type": "code",
   "execution_count": 73,
   "metadata": {},
   "outputs": [],
   "source": [
    "Z_test = torch.from_numpy(X_test.to_numpy())\n",
    "Z_test = Z_test.view(Z_test.shape[0],Z_train.shape[1],1)"
   ]
  },
  {
   "cell_type": "code",
   "execution_count": 74,
   "metadata": {},
   "outputs": [],
   "source": [
    "a_test = ev.compute_alpha(7, Z_test)"
   ]
  },
  {
   "cell_type": "code",
   "execution_count": 75,
   "metadata": {},
   "outputs": [],
   "source": [
    "clf2 = LogisticRegression(random_state=42)"
   ]
  },
  {
   "cell_type": "code",
   "execution_count": 76,
   "metadata": {},
   "outputs": [
    {
     "data": {
      "text/plain": [
       "LogisticRegression(random_state=42)"
      ]
     },
     "execution_count": 76,
     "metadata": {},
     "output_type": "execute_result"
    }
   ],
   "source": [
    "clf2.fit(a_train.T.numpy(),Y_train)"
   ]
  },
  {
   "cell_type": "code",
   "execution_count": 77,
   "metadata": {},
   "outputs": [
    {
     "data": {
      "text/plain": [
       "0.8447665121551323"
      ]
     },
     "execution_count": 77,
     "metadata": {},
     "output_type": "execute_result"
    }
   ],
   "source": [
    "validation_model(clf2,a_test.T.numpy(),Y_test)[0]"
   ]
  }
 ],
 "metadata": {
  "kernelspec": {
   "display_name": "Python 3",
   "language": "python",
   "name": "python3"
  },
  "language_info": {
   "codemirror_mode": {
    "name": "ipython",
    "version": 3
   },
   "file_extension": ".py",
   "mimetype": "text/x-python",
   "name": "python",
   "nbconvert_exporter": "python",
   "pygments_lexer": "ipython3",
   "version": "3.8.2"
  }
 },
 "nbformat": 4,
 "nbformat_minor": 4
}
