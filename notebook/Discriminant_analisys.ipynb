{
 "cells": [
  {
   "cell_type": "markdown",
   "metadata": {},
   "source": [
    "# LDA and QDA"
   ]
  },
  {
   "cell_type": "code",
   "execution_count": 95,
   "metadata": {},
   "outputs": [],
   "source": [
    "import os\n",
    "os.chdir(\"..\")\n",
    "from src.pretraitement import X_train,X_train_scaled,Y_train,X_test,X_test_scaled,Y_test"
   ]
  },
  {
   "cell_type": "code",
   "execution_count": 37,
   "metadata": {},
   "outputs": [],
   "source": [
    "from sklearn.discriminant_analysis  import LinearDiscriminantAnalysis\n",
    "from sklearn.discriminant_analysis import QuadraticDiscriminantAnalysis\n",
    "from sklearn.naive_bayes import GaussianNB"
   ]
  },
  {
   "cell_type": "code",
   "execution_count": 69,
   "metadata": {},
   "outputs": [],
   "source": [
    "import numpy as np\n",
    "import pandas as pd"
   ]
  },
  {
   "cell_type": "code",
   "execution_count": 61,
   "metadata": {},
   "outputs": [],
   "source": [
    "def training_model(model,data,labels):\n",
    "    clf = model()\n",
    "    clf.fit(data,labels)\n",
    "    return clf\n",
    "\n",
    "def ratio_precision(Y_predicted,Y):\n",
    "    if not(Y_predicted.shape == Y.shape):\n",
    "        raise ValueError(\"Y_predicted and Y did not have the same shape\")\n",
    "    \n",
    "    return (Y_predicted == Y).sum()/Y.shape[0]\n",
    "\n",
    "def validation_model(clf,data_test,labels_test):\n",
    "    Y_predicted = clf.predict(data_test)\n",
    "    return ratio_precision(Y_predicted,labels_test),Y_predicted"
   ]
  },
  {
   "cell_type": "markdown",
   "metadata": {},
   "source": [
    "## LDA"
   ]
  },
  {
   "cell_type": "code",
   "execution_count": 65,
   "metadata": {},
   "outputs": [],
   "source": [
    "clf_lda = training_model(LinearDiscriminantAnalysis,X_train,Y_train)"
   ]
  },
  {
   "cell_type": "code",
   "execution_count": 90,
   "metadata": {
    "scrolled": true
   },
   "outputs": [
    {
     "data": {
      "text/plain": [
       "0.9910936582798615"
      ]
     },
     "execution_count": 90,
     "metadata": {},
     "output_type": "execute_result"
    }
   ],
   "source": [
    "validation_model(clf_lda,X_test,Y_test)[0]"
   ]
  },
  {
   "cell_type": "markdown",
   "metadata": {},
   "source": [
    "## QDA"
   ]
  },
  {
   "cell_type": "code",
   "execution_count": 67,
   "metadata": {},
   "outputs": [
    {
     "name": "stderr",
     "output_type": "stream",
     "text": [
      "/home/samsja/.pyenv/versions/anaconda3-2020.02/lib/python3.7/site-packages/sklearn/discriminant_analysis.py:691: UserWarning: Variables are collinear\n",
      "  warnings.warn(\"Variables are collinear\")\n"
     ]
    }
   ],
   "source": [
    "clf_qda = training_model(QuadraticDiscriminantAnalysis,X_train,Y_train)"
   ]
  },
  {
   "cell_type": "code",
   "execution_count": 89,
   "metadata": {},
   "outputs": [
    {
     "data": {
      "text/plain": [
       "0.4117158876991276"
      ]
     },
     "execution_count": 89,
     "metadata": {},
     "output_type": "execute_result"
    }
   ],
   "source": [
    "validation_model(clf_qda,X_test,Y_test)[0]"
   ]
  },
  {
   "cell_type": "code",
   "execution_count": 114,
   "metadata": {},
   "outputs": [
    {
     "name": "stderr",
     "output_type": "stream",
     "text": [
      "/home/samsja/.pyenv/versions/anaconda3-2020.02/lib/python3.7/site-packages/sklearn/discriminant_analysis.py:691: UserWarning: Variables are collinear\n",
      "  warnings.warn(\"Variables are collinear\")\n"
     ]
    }
   ],
   "source": [
    "clf_qda2 = training_model(QuadraticDiscriminantAnalysis,X_train_scaled,Y_train)"
   ]
  },
  {
   "cell_type": "code",
   "execution_count": 115,
   "metadata": {},
   "outputs": [
    {
     "data": {
      "text/plain": [
       "0.41914458636115215"
      ]
     },
     "execution_count": 115,
     "metadata": {},
     "output_type": "execute_result"
    }
   ],
   "source": [
    "validation_model(clf_qda2,X_test_scaled,Y_test)[0]"
   ]
  },
  {
   "cell_type": "code",
   "execution_count": 103,
   "metadata": {},
   "outputs": [],
   "source": [
    "corr = (X_train_scaled.cov()).to_numpy()"
   ]
  },
  {
   "cell_type": "code",
   "execution_count": 111,
   "metadata": {},
   "outputs": [
    {
     "data": {
      "text/plain": [
       "array([0.83887348, 0.77824625, 0.52695253, 0.83224116, 0.70779306,\n",
       "       0.70779306, 0.83887348, 0.92560852, 0.92810251, 0.66096976,\n",
       "       0.62201795, 0.61809532, 0.95188715, 0.52889071, 0.92810251,\n",
       "       0.67167478, 0.68800785, 0.68786031, 0.8940425 , 0.52889071,\n",
       "       0.81786961, 0.66096976, 0.67167478, 0.95350396, 0.9499316 ,\n",
       "       0.66516102, 0.58333422, 0.5861537 , 0.79649325, 0.99857383,\n",
       "       0.96426209, 0.62201795, 0.68800785, 0.95350396, 0.99105096,\n",
       "       0.64195535, 0.52695253, 0.5861537 , 0.5955957 , 0.58506431,\n",
       "       0.5276451 , 0.5276451 , 0.58333422, 0.61809532, 0.68786031,\n",
       "       0.9499316 , 0.99105096, 0.63620904, 0.77824625, 0.92560852,\n",
       "       0.83224116, 0.81786961, 0.79649325, 0.5955957 , 0.79558401,\n",
       "       0.96426209, 0.99857383, 0.58506431, 0.79558401, 0.95188715,\n",
       "       0.8940425 , 0.66516102, 0.64195535, 0.63620904])"
      ]
     },
     "execution_count": 111,
     "metadata": {},
     "output_type": "execute_result"
    }
   ],
   "source": [
    "corr[(corr>=0.5)*(corr<1)]"
   ]
  },
  {
   "cell_type": "markdown",
   "metadata": {},
   "source": [
    "## Gaussian naive"
   ]
  },
  {
   "cell_type": "code",
   "execution_count": 121,
   "metadata": {},
   "outputs": [],
   "source": [
    "clf_gnb = training_model(GaussianNB,X_train,Y_train)"
   ]
  },
  {
   "cell_type": "code",
   "execution_count": 122,
   "metadata": {},
   "outputs": [
    {
     "data": {
      "text/plain": [
       "0.9141550108293018"
      ]
     },
     "execution_count": 122,
     "metadata": {},
     "output_type": "execute_result"
    }
   ],
   "source": [
    "validation_model(clf_gnb,X_test,Y_test)[0]"
   ]
  }
 ],
 "metadata": {
  "kernelspec": {
   "display_name": "Python 3",
   "language": "python",
   "name": "python3"
  },
  "language_info": {
   "codemirror_mode": {
    "name": "ipython",
    "version": 3
   },
   "file_extension": ".py",
   "mimetype": "text/x-python",
   "name": "python",
   "nbconvert_exporter": "python",
   "pygments_lexer": "ipython3",
   "version": "3.7.6"
  }
 },
 "nbformat": 4,
 "nbformat_minor": 4
}
